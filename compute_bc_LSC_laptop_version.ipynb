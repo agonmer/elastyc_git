{
 "cells": [
  {
   "cell_type": "markdown",
   "id": "e356aa79",
   "metadata": {},
   "source": [
    "Here the notes on how to compute the BC to be used in the LSC experiments (reduced in winter and enhanced in \n",
    "summer)."
   ]
  },
  {
   "cell_type": "code",
   "execution_count": null,
   "id": "5951313e",
   "metadata": {},
   "outputs": [],
   "source": [
    "import numpy as np\n",
    "import xarray as xr\n",
    "import matplotlib.pyplot as plt\n",
    "from matplotlib.path import Path"
   ]
  },
  {
   "cell_type": "code",
   "execution_count": null,
   "id": "095ee2a6",
   "metadata": {},
   "outputs": [],
   "source": [
    "# First, convert the following files to netcdf with CDO:\n",
    "## Ocean-surface climatologies: water SST, sea-ice concen. and sfc. temperature\n",
    "# ln -s $SB/mclim_era5_sswt_1981_2010.grd     fort.21\n",
    "# ln -s $SB/mclim_era5_icesc_1981_2010.grd    fort.22\n",
    "# ln -s $SB/mclim_era5_icest_1981_2010.grd    fort.23\n",
    "## Land-surface climatologies: land temp at 1m, snow depth, soil wetness\n",
    "# ln -s $SB/mclim_erain_stl1m_1981_2010.grd   fort.24\n",
    "# ln -s $SB/mclim_erain_snowd_modif.ctl1981_2010.grd   fort.25\n",
    "# ln -s $SB/mclim_erain_swet_1981_2010.grd    fort.26\n",
    "\n",
    "# The command to be used is \n",
    "# cdo -f nc import_binary in_grads.ctl out_ncdf.nc\n",
    "\n",
    "# So, in /leonardo_scratch/large/userexternal/ameroni0/speedy_ver42/bc_ver42/clim we do\n",
    "# module load cdo\n",
    "# cdo -f nc import_binary mclim_era5_sswt_modif.ctl mclim_era5_sswt.nc\n",
    "# cdo -f nc import_binary mclim_era5_icesc_modif.ctl mclim_era5_icesc.nc\n",
    "# cdo -f nc import_binary mclim_era5_icest_modif.ctl mclim_era5_icest.nc\n",
    "# cdo -f nc import_binary mclim_erain_stl1m_modif.ctl mclim_erain_stl1m.nc\n",
    "# cdo -f nc import_binary mclim_erain_snowd_modif.ctl mclim_erain_snowd.nc\n",
    "# cdo -f nc import_binary mclim_erain_swet_modif.ctl mclim_erain_swet.nc\n",
    "\n",
    "# NB I have to remove the line\n",
    "#   --> EDEF       1  NAMES     1\n",
    "# because cdo does not recognize it: I copy the *.ctl files and save them as *modif.ctl files before conversion.\n",
    "# I also remove the YREV keyword, so that the data are maintained in the proper y direction."
   ]
  },
  {
   "cell_type": "code",
   "execution_count": null,
   "id": "bfe08148",
   "metadata": {},
   "outputs": [],
   "source": [
    "# Second, compute the DJF and JJA averages of all these fields. "
   ]
  },
  {
   "cell_type": "code",
   "execution_count": null,
   "id": "75878fd4-f8ba-4d91-ad11-7e2f7af677a7",
   "metadata": {},
   "outputs": [],
   "source": [
    "def seasonal_average_ds(ds,label_season):\n",
    "    if label_season=='JJA':\n",
    "        seasonal_ave = (ds.isel(time=5) + ds.isel(time=6) + ds.isel(time=7))/3\n",
    "    elif label_season=='DJF':\n",
    "        seasonal_ave = (ds.isel(time=0) + ds.isel(time=1) + ds.isel(time=11))/3\n",
    "    return seasonal_ave"
   ]
  },
  {
   "cell_type": "code",
   "execution_count": null,
   "id": "741a1e01",
   "metadata": {},
   "outputs": [],
   "source": [
    "path2clim = '/leonardo_scratch/large/userexternal/ameroni0/speedy_ver42/bc_ver42/clim/'\n",
    "path2clim = '/home/agostino/Desktop/SPEEDY/speedy_seasonal_forcing/'\n",
    "\n",
    "varlist = ['sswt','icesc','icest','stl1m','snowd','swet']\n",
    "eralist = ['era5','era5','era5','erain','erain','erain']\n",
    "\n",
    "label_season = 'JJA' # 'DJF' or 'JJA'\n",
    "\n",
    "for kk in range(len(varlist)):\n",
    "    varname = varlist[kk]\n",
    "    ds = xr.open_dataset(path2clim+'mclim_'+eralist[kk]+'_'+varname+'.nc')\n",
    "    ds_sa = seasonal_average_ds(ds,label_season)\n",
    "\n",
    "    ds_sa.to_netcdf(path2clim+varname+'_'+label_season+'.nc')"
   ]
  },
  {
   "cell_type": "code",
   "execution_count": null,
   "id": "5a943bb8",
   "metadata": {},
   "outputs": [],
   "source": [
    "# Extract data from a single month and save the corresponding netcdf.\n",
    "# August - index = 7\n",
    "label_month = 'aug'\n",
    "\n",
    "for kk in range(len(varlist)):\n",
    "    varname = varlist[kk]\n",
    "    if label_month == 'aug':\n",
    "        ds = xr.open_dataset(path2clim+'mclim_'+eralist[kk]+'_'+varname+'.nc')\n",
    "        ds_m = ds.isel(time=7)\n",
    "        ds_m.to_netcdf(path2clim+varname+'_'+label_month+'.nc')"
   ]
  },
  {
   "cell_type": "code",
   "execution_count": null,
   "id": "e8bf825a",
   "metadata": {},
   "outputs": [],
   "source": [
    "kk = 0\n",
    "varname = varlist[kk]\n",
    "ds = xr.open_dataset(path2clim+'mclim_'+eralist[kk]+'_'+varlist[kk]+'.nc')\n",
    "ds_sa = seasonal_average_ds(ds,label_season)"
   ]
  },
  {
   "cell_type": "code",
   "execution_count": null,
   "id": "85b2714d",
   "metadata": {},
   "outputs": [],
   "source": [
    "ds_sa[varname].isel(lev=0).plot()"
   ]
  },
  {
   "cell_type": "code",
   "execution_count": null,
   "id": "49f9b612",
   "metadata": {},
   "outputs": [],
   "source": [
    "ds_test = xr.open_dataset(path2clim+'sswt_'+label_month+'.nc')\n",
    "ds_test['sswt'].isel(lev=0).plot()"
   ]
  },
  {
   "cell_type": "code",
   "execution_count": null,
   "id": "cb9f823b",
   "metadata": {},
   "outputs": [],
   "source": [
    "# You would need something like this to reverse the yaxis!\n",
    "\n",
    "#sa_modif = ds_sa[varname][0].values\n",
    "sa_modif = np.flipud(ds_sa[varname][0].values)\n",
    "ds_sa_yrev = ds_sa.copy()\n",
    "ds_sa_yrev[varname][0] = sa_modif # np.flipud(sa_modif)\n",
    "# If I plot now da_sa it is also reversed, and I don't know why.\n",
    "# However, by saving the netcdf before reversing the data things should be fine.\n",
    "\n",
    "ds_sa_yrev[varname][0].plot()"
   ]
  },
  {
   "cell_type": "code",
   "execution_count": null,
   "id": "e855791c",
   "metadata": {},
   "outputs": [],
   "source": [
    "ds_sa['snowd'][0].plot()"
   ]
  },
  {
   "cell_type": "code",
   "execution_count": null,
   "id": "a6bba3db-e175-4b53-8fe1-f363070770c4",
   "metadata": {},
   "outputs": [],
   "source": [
    "# Third, we interpolate the recently created seasonal files on the grid of an original BC file, with CDO.\n",
    "# I use conservative remapping (in the path2clim folder)\n",
    "\n",
    "# cdo remapcon,targetgrid  ifile  ofile\n",
    "\n",
    "# So, for example I do\n",
    "#  cdo remapcon,mclim_era5_icesc.nc sswt_JJA.nc sswt_JJA_speedygrid.nc\n",
    "#  cdo remapcon,mclim_era5_icesc.nc icesc_JJA.nc icesc_JJA_speedygrid.nc\n",
    "#  cdo remapcon,mclim_era5_icesc.nc icest_JJA.nc icest_JJA_speedygrid.nc\n",
    "#  cdo remapcon,mclim_era5_icesc.nc stl1m_JJA.nc stl1m_JJA_speedygrid.nc\n",
    "#  cdo remapcon,mclim_era5_icesc.nc snowd_JJA.nc snowd_JJA_speedygrid.nc\n",
    "#  cdo remapcon,mclim_era5_icesc.nc swet_JJA.nc swet_JJA_speedygrid.nc\n",
    "#  cdo remapcon,mclim_era5_icesc.nc swet_DJF.nc swet_DJF_speedygrid.nc\n",
    "#  cdo remapcon,mclim_era5_icesc.nc snowd_DJF.nc snowd_DJF_speedygrid.nc\n",
    "#  cdo remapcon,mclim_era5_icesc.nc stl1m_DJF.nc stl1m_DJF_speedygrid.nc\n",
    "#  cdo remapcon,mclim_era5_icesc.nc icest_DJF.nc icest_DJF_speedygrid.nc\n",
    "#  cdo remapcon,mclim_era5_icesc.nc icesc_DJF.nc icesc_DJF_speedygrid.nc\n",
    "#  cdo remapcon,mclim_era5_icesc.nc sswt_DJF.nc sswt_DJF_speedygrid.nc\n",
    "\n",
    "# Check the same file as before.\n",
    "print('Testing on '+ varlist[kk])\n",
    "print('----------------------------------------')\n",
    "ds_interp = xr.open_dataset(path2clim+varlist[kk]+'_'+label_season+'_speedygrid.nc')\n",
    "ds_interp[varlist[kk]].plot()\n",
    "plt.show()\n",
    "# The interpolation looks correct.\n",
    "\n",
    "ds_interp_m = xr.open_dataset(path2clim+varlist[kk]+'_'+label_month+'_speedygrid.nc')\n",
    "ds_interp[varlist[kk]].plot()\n",
    "plt.show()\n",
    "# The interpolation looks correct."
   ]
  },
  {
   "cell_type": "code",
   "execution_count": null,
   "id": "d804638f-7533-4772-a3a5-2a72e6828e16",
   "metadata": {},
   "outputs": [],
   "source": [
    "# Fourth, with grads we convert the seasonal averaged netcdf files.\n",
    "# Within grads, use the scripts \n",
    "test_bc_sst.gs sswt DJF\n",
    "test_bc_sst.gs stl1m DJF\n",
    "test_bc_sst.gs icest DJF\n",
    "test_bc_sst.gs icesc DJF\n",
    "test_bc_sst.gs snowd DJF\n",
    "test_bc_swet.gs swet DJF\n",
    "\n",
    "# From the terminal, instead, run the test_ctl files as\n",
    "./test_ctl_sst.s sswt DJF -999\n",
    "./test_ctl_sst.s stl1m DJF -999\n",
    "./test_ctl_sst.s icesc DJF -999\n",
    "./test_ctl_sst.s icest DJF -999\n",
    "./test_ctl_sst.s snowd DJF -999\n",
    "./test_ctl_swet.s swet DJF -999\n",
    "\n",
    "# Note that the same scripts can be used for the monthly data as well, it is enough to replace DJF and JJA with\n",
    "# the three letters of the month of interest."
   ]
  },
  {
   "cell_type": "code",
   "execution_count": null,
   "id": "4f0db5f2-f49c-4148-a979-f76a9641b282",
   "metadata": {},
   "outputs": [],
   "source": []
  },
  {
   "cell_type": "code",
   "execution_count": null,
   "id": "eae72a1a-343c-4f78-af63-899e9f451987",
   "metadata": {},
   "outputs": [],
   "source": []
  },
  {
   "cell_type": "code",
   "execution_count": null,
   "id": "f9c2e798",
   "metadata": {},
   "outputs": [],
   "source": [
    "# On my local machine I run this part where I compare the CMIP6 forcing files in the historical period with the \n",
    "# ERA5/ERA-Interim derived files. Then I want to add the future forcing.\n",
    "\n",
    "season_label = 'JJA' # 'DJF' or 'JJA'\n",
    "\n",
    "path2speedy = './speedy_seasonal_forcing/'\n",
    "path2cmip6 = './cmip6_forcing/'"
   ]
  },
  {
   "cell_type": "code",
   "execution_count": null,
   "id": "34b135d8",
   "metadata": {},
   "outputs": [],
   "source": [
    "# SEA SURFACE TEMPERATURE"
   ]
  },
  {
   "cell_type": "code",
   "execution_count": null,
   "id": "6eeba86b",
   "metadata": {},
   "outputs": [],
   "source": [
    "# Sea surface temperature\n",
    "varname = 'sea surface temperature'\n",
    "files = path2speedy + 'sswt_'+season_label+'_speedygrid.nc'\n",
    "filech = path2cmip6 + season_label+'_MMM_tos_single_member_1979-2008.nc' # historical\n",
    "filecf = path2cmip6 + season_label+'_MMM_tos_single_member_2071-2100.nc' # future"
   ]
  },
  {
   "cell_type": "code",
   "execution_count": null,
   "id": "4fdb4acc",
   "metadata": {},
   "outputs": [],
   "source": [
    "dss_sst = xr.open_dataset(files)\n",
    "dsch_sst = xr.open_dataset(filech)\n",
    "dscf_sst = xr.open_dataset(filecf)"
   ]
  },
  {
   "cell_type": "code",
   "execution_count": null,
   "id": "7a4030a0",
   "metadata": {},
   "outputs": [],
   "source": [
    "dss_sst"
   ]
  },
  {
   "cell_type": "code",
   "execution_count": null,
   "id": "e5a1b4a0",
   "metadata": {},
   "outputs": [],
   "source": [
    "dsch_sst"
   ]
  },
  {
   "cell_type": "code",
   "execution_count": null,
   "id": "c287514c",
   "metadata": {},
   "outputs": [],
   "source": [
    "dscf_sst"
   ]
  },
  {
   "cell_type": "code",
   "execution_count": null,
   "id": "4506671f",
   "metadata": {},
   "outputs": [],
   "source": [
    "plt.pcolormesh(dss_sst.sswt[0].values)"
   ]
  },
  {
   "cell_type": "code",
   "execution_count": null,
   "id": "7657f1d5",
   "metadata": {},
   "outputs": [],
   "source": [
    "plt.pcolormesh(dsch_sst.tos.values)"
   ]
  },
  {
   "cell_type": "code",
   "execution_count": null,
   "id": "44c083b0",
   "metadata": {},
   "outputs": [],
   "source": [
    "fig, (ax1, ax2, ax3) = plt.subplots(3,figsize=(10,18))\n",
    "\n",
    "levels = np.arange(270,310,5)\n",
    "\n",
    "ax1.set_title('SPEEDY '+ season_label+' '+varname+' [K]',fontsize=16)\n",
    "ax1.pcolormesh(dss_sst.lon.values,dss_sst.lat.values,dss_sst.sswt.isel(lev=0).values,shading='nearest')\n",
    "cs = ax1.contour(dss_sst.lon.values,dss_sst.lat.values,dss_sst.sswt.isel(lev=0).values,colors='k',levels=levels)\n",
    "ax1.clabel(cs, inline=True, fontsize=10)\n",
    "\n",
    "ax2.set_title('CMPI6 '+ season_label+' '+varname+', historical [K]',fontsize=16)\n",
    "ax2.pcolormesh(dsch_sst.longitude.values,dsch_sst.latitude.values,dsch_sst.tos.values/dsch_sst.tos.counter+273.15,shading='nearest')\n",
    "cs = ax2.contour(dsch_sst.longitude.values,dsch_sst.latitude.values,dsch_sst.tos.values/dsch_sst.tos.counter+273.15,colors='k',levels=levels)\n",
    "ax2.clabel(cs, inline=True, fontsize=10)\n",
    "# tos has to be divided by the number of members used and converted to Kelvin\n",
    "\n",
    "# Future - past difference\n",
    "delta_tos = dscf_sst.tos/dscf_sst.tos.counter - dsch_sst.tos/dsch_sst.tos.counter\n",
    "\n",
    "ax3.set_title('CMPI6 '+ season_label+' '+varname+', future-historical [K]',fontsize=16)\n",
    "ax3.pcolormesh(dsch_sst.longitude.values,dsch_sst.latitude.values,delta_tos.values,shading='nearest',cmap='seismic',vmin=-5,vmax=5)\n",
    "cs = ax3.contour(dsch_sst.longitude.values,dsch_sst.latitude.values,delta_tos.values,colors='k',levels=np.arange(-5,6,1))\n",
    "ax3.clabel(cs, inline=True, fontsize=10)\n",
    "# tos has to be divided by the number of members used and converted to Kelvin\n",
    "\n",
    "plt.savefig('bc_lsc_sea-surface-temperature_'+season_label+'.png',bbox_inches='tight')"
   ]
  },
  {
   "cell_type": "code",
   "execution_count": null,
   "id": "db4eee02",
   "metadata": {},
   "outputs": [],
   "source": []
  },
  {
   "cell_type": "code",
   "execution_count": null,
   "id": "a169572d",
   "metadata": {},
   "outputs": [],
   "source": []
  },
  {
   "cell_type": "code",
   "execution_count": null,
   "id": "97bc9e81",
   "metadata": {},
   "outputs": [],
   "source": [
    "# LAND SURFACE TEMPERATURE: TWO OPTIONS"
   ]
  },
  {
   "cell_type": "code",
   "execution_count": null,
   "id": "2466f3e5",
   "metadata": {},
   "outputs": [],
   "source": [
    "# Land surface temperature - first level of CMIP models\n",
    "varname = 'land surface temperature'\n",
    "files = path2speedy + 'stl1m_'+season_label+'_speedygrid.nc'\n",
    "str_to_save = 'tsl'\n",
    "filech = path2cmip6 + season_label+'_MMM_'+str_to_save+'_single_member_1979-2008.nc' # historical\n",
    "filecf = path2cmip6 + season_label+'_MMM_'+str_to_save+'_single_member_2071-2100.nc' # future"
   ]
  },
  {
   "cell_type": "code",
   "execution_count": null,
   "id": "2a03a503",
   "metadata": {},
   "outputs": [],
   "source": [
    "# Land surface temperature - linearly interpolated at 1m depth\n",
    "varname = 'land surface temperature'\n",
    "str_to_save = 't1m'\n",
    "files = path2speedy + 'stl1m_'+season_label+'_speedygrid.nc'\n",
    "filech = path2cmip6 + season_label+'_MMM_'+str_to_save+'_single_member_1979-2008.nc' # historical\n",
    "filecf = path2cmip6 + season_label+'_MMM_'+str_to_save+'_single_member_2071-2100.nc' # future"
   ]
  },
  {
   "cell_type": "code",
   "execution_count": null,
   "id": "b968b6a2",
   "metadata": {},
   "outputs": [],
   "source": [
    "dss_lst = xr.open_dataset(files)\n",
    "dsch_lst = xr.open_dataset(filech)\n",
    "dscf_lst = xr.open_dataset(filecf)"
   ]
  },
  {
   "cell_type": "code",
   "execution_count": null,
   "id": "aad09d45",
   "metadata": {},
   "outputs": [],
   "source": [
    "dss_lst"
   ]
  },
  {
   "cell_type": "code",
   "execution_count": null,
   "id": "764ac56c",
   "metadata": {},
   "outputs": [],
   "source": [
    "dsch_lst"
   ]
  },
  {
   "cell_type": "code",
   "execution_count": null,
   "id": "ab7a2455",
   "metadata": {},
   "outputs": [],
   "source": [
    "fig, (ax1, ax2, ax3) = plt.subplots(3,figsize=(10,18))\n",
    "\n",
    "levels = np.arange(270,310,5)\n",
    "\n",
    "ax1.set_title('SPEEDY '+ season_label+' '+varname+' [K]',fontsize=16)\n",
    "ax1.pcolormesh(dss_lst.lon.values,dss_lst.lat.values,dss_lst.stl1m.isel(lev=0).values,shading='nearest')\n",
    "cs = ax1.contour(dss_lst.lon.values,dss_lst.lat.values,dss_lst.stl1m.isel(lev=0).values,colors='k',levels=levels)\n",
    "ax1.clabel(cs, inline=True, fontsize=10)\n",
    "\n",
    "ax2.set_title('CMPI6 '+ season_label+' '+varname+', historical [K]',fontsize=16)\n",
    "ax2.pcolormesh(dsch_lst.longitude.values,dsch_lst.latitude.values,dsch_lst.tsl.values,shading='nearest')\n",
    "#cs = ax2.contour(dsch_lst.longitude.values,dsch_lst.latitude.values,dsch_lst.tsl.values/dsch_lst.tsl.counter,colors='k',levels=levels)\n",
    "cs = ax2.contour(dsch_lst.longitude.values,dsch_lst.latitude.values,dsch_lst.tsl.values,colors='k',levels=levels)\n",
    "ax2.clabel(cs, inline=True, fontsize=10)\n",
    "# tos has to be divided by the number of members used and converted to Kelvin\n",
    "\n",
    "# Future - past difference\n",
    "#delta_tsl = dscf_lst.tsl/dscf_lst.tsl.counter - dsch_lst.tsl/dsch_lst.tsl.counter\n",
    "delta_tsl = dscf_lst.tsl - dsch_lst.tsl\n",
    "\n",
    "ax3.set_title('CMPI6 '+ season_label+' '+varname+', future-historical [K]',fontsize=16)\n",
    "ax3.pcolormesh(dsch_lst.longitude.values,dsch_lst.latitude.values,delta_tsl.values,shading='nearest',cmap='seismic',vmin=-12,vmax=12)\n",
    "cs = ax3.contour(dsch_lst.longitude.values,dsch_lst.latitude.values,delta_tsl.values,colors='k',levels=np.arange(-12,15,3))\n",
    "ax3.clabel(cs, inline=True, fontsize=10)\n",
    "# tos has to be divided by the number of members used and converted to Kelvin"
   ]
  },
  {
   "cell_type": "code",
   "execution_count": null,
   "id": "d94e5cc0",
   "metadata": {},
   "outputs": [],
   "source": []
  },
  {
   "cell_type": "code",
   "execution_count": null,
   "id": "e58153c5",
   "metadata": {},
   "outputs": [],
   "source": [
    "# SOIL MOISTURE"
   ]
  },
  {
   "cell_type": "code",
   "execution_count": null,
   "id": "0c3d9e73",
   "metadata": {},
   "outputs": [],
   "source": [
    "# Land surface moisture\n",
    "varname = 'land surface moisture'\n",
    "files = path2speedy + 'swet_'+season_label+'_speedygrid.nc'\n",
    "filech = path2cmip6 + season_label+'_MMM_mrsos_single_member_1979-2008.nc' # historical\n",
    "filecf = path2cmip6 + season_label+'_MMM_mrsos_single_member_2071-2100.nc' # future"
   ]
  },
  {
   "cell_type": "code",
   "execution_count": null,
   "id": "dd462299",
   "metadata": {},
   "outputs": [],
   "source": [
    "dss_swet = xr.open_dataset(files)\n",
    "dsch_mrsos = xr.open_dataset(filech)\n",
    "dscf_mrsos = xr.open_dataset(filecf)"
   ]
  },
  {
   "cell_type": "code",
   "execution_count": null,
   "id": "a4220609",
   "metadata": {},
   "outputs": [],
   "source": [
    "dss_swet"
   ]
  },
  {
   "cell_type": "code",
   "execution_count": null,
   "id": "e7c6f997",
   "metadata": {},
   "outputs": [],
   "source": [
    "from scipy import stats\n",
    "\n",
    "x = dss_swet['swl1'].values.flatten()\n",
    "y = dss_swet['swl2'].values.flatten()\n",
    "\n",
    "x = x[~np.isnan(x)]\n",
    "y = y[~np.isnan(y)]\n",
    "\n",
    "plt.grid()\n",
    "plt.scatter(x,y)\n",
    "res = stats.linregress(x, y)\n",
    "plt.plot(x, res.intercept + res.slope*x, 'r', label='fitted line')\n",
    "print(res.slope)"
   ]
  },
  {
   "cell_type": "code",
   "execution_count": null,
   "id": "74fbde6d",
   "metadata": {},
   "outputs": [],
   "source": [
    "# Note that we need to convert mrsos, as used in CMIP6 (defined to be the water mass per unit land area in the\n",
    "# first 10 cm of soil, measured in kg/m2), to swet, as used in SPEEDY (defined as the volume fraction of water).\n",
    "# swet = volume water / land volume = (mass of water / water density) / (land area * thickness) = \n",
    "#      = mrsos / (water density * thickness) = mrsos / 100\n",
    "# considering that water density = 1e3 kg/m3 and the thickness of the soil layer considered is 10 cm = 0.1 m."
   ]
  },
  {
   "cell_type": "code",
   "execution_count": null,
   "id": "e0047df5",
   "metadata": {},
   "outputs": [],
   "source": [
    "fig, (ax1, ax2, ax3) = plt.subplots(3,figsize=(10,18))\n",
    "\n",
    "levels = np.arange(0,0.5,0.1)\n",
    "\n",
    "ax1.set_title('SPEEDY '+ season_label+' '+varname+' [m3/m3]',fontsize=16)\n",
    "ax1.pcolormesh(dss_swet.lon.values,dss_swet.lat.values,dss_swet.swl1.isel(lev=0).values,shading='nearest',vmin=0,vmax=0.5)\n",
    "cs = ax1.contour(dss_swet.lon.values,dss_swet.lat.values,dss_swet.swl1.isel(lev=0).values,colors='k',levels=levels)\n",
    "ax1.clabel(cs, inline=True, fontsize=10)\n",
    "\n",
    "ax2.set_title('CMPI6 '+ season_label+' '+varname+', historical [m3/m3]',fontsize=16)\n",
    "ax2.pcolormesh(dsch_mrsos.longitude.values,dsch_mrsos.latitude.values,dsch_mrsos.mrsos.values/100,shading='nearest',vmin=0,vmax=0.5)\n",
    "cs = ax2.contour(dsch_mrsos.longitude.values,dsch_mrsos.latitude.values,dsch_mrsos.mrsos.values/100,colors='k',levels=levels)\n",
    "ax2.clabel(cs, inline=True, fontsize=10)\n",
    "# tos has to be divided by the number of members used and converted to Kelvin\n",
    "\n",
    "# Future - past difference\n",
    "delta_swet = dscf_mrsos.mrsos/100 - dsch_mrsos.mrsos/100\n",
    "\n",
    "ax3.set_title('CMPI6 '+ season_label+' '+varname+', future-historical [m3/m3]',fontsize=16)\n",
    "ax3.pcolormesh(dsch_mrsos.longitude.values,dsch_mrsos.latitude.values,delta_swet.values,shading='nearest',cmap='seismic',vmin=-0.5,vmax=0.5)\n",
    "cs = ax3.contour(dsch_mrsos.longitude.values,dsch_mrsos.latitude.values,delta_swet.values,colors='k',levels=np.arange(-1,1,0.1))\n",
    "ax3.clabel(cs, inline=True, fontsize=10)"
   ]
  },
  {
   "cell_type": "code",
   "execution_count": null,
   "id": "fb3b14ba",
   "metadata": {},
   "outputs": [],
   "source": []
  },
  {
   "cell_type": "code",
   "execution_count": null,
   "id": "ac07b389",
   "metadata": {},
   "outputs": [],
   "source": []
  },
  {
   "cell_type": "code",
   "execution_count": null,
   "id": "b6efc635",
   "metadata": {},
   "outputs": [],
   "source": []
  },
  {
   "cell_type": "code",
   "execution_count": null,
   "id": "4cc39e75",
   "metadata": {},
   "outputs": [],
   "source": [
    "# TOS, TSL, MRSOS ----- MRSOS NEEDS TO BE IMPLEMENTED PROPERLY!!! CHECK IT!!!"
   ]
  },
  {
   "cell_type": "code",
   "execution_count": null,
   "id": "0d3405b3",
   "metadata": {},
   "outputs": [],
   "source": [
    "# Run this cell once.\n",
    "delta_tos = delta_tos.rename({'longitude': 'lon','latitude': 'lat'})\n",
    "delta_tsl = delta_tsl.drop_vars(('lon','lat'))\n",
    "delta_tsl = delta_tsl.rename({'longitude': 'lon','latitude': 'lat'})\n",
    "delta_swet = delta_swet.drop_vars(('lon','lat'))\n",
    "delta_swet = delta_swet.rename({'longitude': 'lon','latitude': 'lat'})"
   ]
  },
  {
   "cell_type": "code",
   "execution_count": null,
   "id": "ae7f506f",
   "metadata": {},
   "outputs": [],
   "source": [
    "# Now interpolate the delta fields on the SPEEDY grid and create the modified SPEEDY boundary condition files for\n",
    "# the reduced and enhanced LSC experiments.\n",
    "\n",
    "delta_tos_speedygrid = delta_tos.interp_like(dss_sst.sswt)\n",
    "delta_tsl_speedygrid = delta_tsl.interp_like(dss_lst.stl1m)\n",
    "delta_swet_speedygrid = delta_swet.interp_like(dss_lst.stl1m)\n",
    "\n",
    "# Reverse the y direction of the deltas\n",
    "delta_tos_modif = np.flipud(delta_tos_speedygrid.values)\n",
    "delta_tsl_modif = np.flipud(delta_tsl_speedygrid.values)\n",
    "delta_swet_modif = np.flipud(delta_swet_speedygrid.values)\n",
    "\n",
    "# Remove the outliers\n",
    "x = delta_tsl_modif.flatten()\n",
    "x_mean = np.nanmean(x)\n",
    "x_std = np.nanstd(x)\n",
    "delta_tsl_modif[delta_tsl_modif<x_mean-3*x_std] = x_mean\n",
    "delta_tsl_modif[delta_tsl_modif>x_mean+3*x_std] = x_mean\n",
    "\n",
    "x = delta_swet_modif.flatten()\n",
    "x_mean = np.nanmean(x)\n",
    "x_std = np.nanstd(x)\n",
    "delta_swet_modif[delta_swet_modif<x_mean-3*x_std] = x_mean\n",
    "delta_swet_modif[delta_swet_modif>x_mean+3*x_std] = x_mean\n",
    "\n",
    "da_warm_sst = dss_sst.sswt + delta_tos_modif\n",
    "da_warm_lst = dss_lst.stl1m + delta_tsl_modif\n",
    "da_warm_swet = dss_swet.swl1 + delta_swet_modif\n",
    "\n",
    "da_warm_sst = da_warm_sst.fillna(-999)\n",
    "da_warm_lst = da_warm_lst.fillna(-999)\n",
    "da_warm_swet = da_warm_swet.fillna(-999)\n",
    "\n",
    "dss_warm_sst = da_warm_sst.to_dataset(name='sswt')\n",
    "dss_warm_lst = da_warm_lst.to_dataset(name='stl1m')\n",
    "# For soil moisture we need to replace one variable in the existing dataset.\n",
    "dss_warm_swet = dss_swet\n",
    "dss_warm_swet['swl1'] = da_warm_swet\n",
    "\n",
    "#sswt_modif = np.flipud(da_warm_sst[0].values)\n",
    "#dss_warm_sst['sswt'][0] = sswt_modif\n",
    "\n",
    "dss_warm_sst.to_netcdf('sswt_'+season_label+'_warmed_speedygrid.nc')\n",
    "dss_warm_lst.to_netcdf('stl1m_'+str_to_save+'_'+season_label+'_warmed_speedygrid.nc')\n",
    "dss_warm_swet.to_netcdf('swet_'+season_label+'_warmed_speedygrid.nc')"
   ]
  },
  {
   "cell_type": "code",
   "execution_count": null,
   "id": "57ffb7a6",
   "metadata": {},
   "outputs": [],
   "source": []
  },
  {
   "cell_type": "code",
   "execution_count": null,
   "id": "4c58bfd1",
   "metadata": {},
   "outputs": [],
   "source": [
    "# Look at the difference between the warmed land surface temperature using t1m or tsl\n",
    "d_t1m = xr.open_dataset('stl1m_t1m_'+season_label+'_warmed_speedygrid.nc')\n",
    "d_tsl = xr.open_dataset('stl1m_tsl_'+season_label+'_warmed_speedygrid.nc')\n",
    "\n",
    "diff = d_t1m['stl1m']-d_tsl['stl1m']\n",
    "fig = plt.figure(figsize=(14,8))\n",
    "diff.plot(vmin=-5,vmax=5,cmap='seismic')\n",
    "plt.title('Difference in between the future warming t1m-tsl [K]',fontsize=16)"
   ]
  },
  {
   "cell_type": "code",
   "execution_count": null,
   "id": "98abc181",
   "metadata": {},
   "outputs": [],
   "source": []
  },
  {
   "cell_type": "code",
   "execution_count": null,
   "id": "749d9b31",
   "metadata": {},
   "outputs": [],
   "source": []
  },
  {
   "cell_type": "code",
   "execution_count": null,
   "id": "6169eacf",
   "metadata": {},
   "outputs": [],
   "source": [
    "plt.pcolormesh(delta_tos_modif)"
   ]
  },
  {
   "cell_type": "code",
   "execution_count": null,
   "id": "186812e9",
   "metadata": {},
   "outputs": [],
   "source": [
    "dss_warm_sst"
   ]
  },
  {
   "cell_type": "code",
   "execution_count": null,
   "id": "7cc6df1b",
   "metadata": {},
   "outputs": [],
   "source": [
    "# Check that the values in the new files are reasonable.\n",
    "test_delta_sst = dss_warm_sst.sswt-dss_sst.sswt\n",
    "test_delta_sst.plot(vmin=-5,vmax=5,cmap='seismic')\n",
    "plt.show()\n",
    "\n",
    "test_delta_lst = dss_warm_lst.stl1m-dss_lst.stl1m\n",
    "test_delta_lst.plot(vmin=-12,vmax=12,cmap='seismic')\n",
    "plt.show()"
   ]
  },
  {
   "cell_type": "code",
   "execution_count": null,
   "id": "c5cccc33",
   "metadata": {},
   "outputs": [],
   "source": [
    "x"
   ]
  },
  {
   "cell_type": "code",
   "execution_count": null,
   "id": "2a5b5469",
   "metadata": {},
   "outputs": [],
   "source": [
    "x = test_delta_lst[0].values.flatten()\n",
    "x[x<-500] = np.nan\n",
    "\n",
    "plt.hist(x,bins=50)\n",
    "\n",
    "# Outlier removal\n",
    "x_mean = np.nanmean(x)\n",
    "x_std = np.nanstd(x)\n",
    "plt.plot([x_mean-3*x_std,x_mean,x_mean+3*x_std],[2000,2000,2000],'o-r')"
   ]
  },
  {
   "cell_type": "code",
   "execution_count": null,
   "id": "09b1ce59",
   "metadata": {},
   "outputs": [],
   "source": [
    "len(oo)"
   ]
  },
  {
   "cell_type": "code",
   "execution_count": null,
   "id": "be082724",
   "metadata": {},
   "outputs": [],
   "source": [
    "# Now I want to remove the forcing in soil temperature from Greenland and Antarctica \n",
    "# (should we do it over snow as well??? e.g. over the Himalayas?).\n",
    "\n",
    "oo = dss_warm_lst.lon.values\n",
    "aa = dss_warm_lst.lat.values\n",
    "tt = dss_warm_lst.stl1m[0].values\n",
    "\n",
    "plt.pcolormesh(oo,aa,tt,vmin=250,vmax=310,shading='nearest')\n",
    "plt.xlim([270,360])\n",
    "plt.ylim([-90,-50])\n",
    "plt.plot([290,300,310,340,355,355,300,290],[-75,-70,-55,-55,-65,-85,-85,-75],'r')\n",
    "plt.show()\n",
    "\n",
    "# Define the vertices of the polygon to be used to create a mask (x,y).\n",
    "poly_verts = [(290,-75),(300,-70),(310,-55),(340,-55),(355,-65),(355,-85),(300,-85),(290,-75)]\n",
    "\n",
    "# Create a grid\n",
    "nx, ny = len(oo), len(aa)\n",
    "#x, y = np.meshgrid(np.arange(nx), np.arange(ny))\n",
    "x, y = np.meshgrid(oo,aa)\n",
    "\n",
    "# Create vertex coordinates for each grid cell.\n",
    "# (<0,0> is at the top left of the grid in this system)\n",
    "x, y = x.flatten(), y.flatten()\n",
    "\n",
    "points = np.vstack((x,y)).T\n",
    "\n",
    "path = Path(poly_verts)\n",
    "greenland_mask = path.contains_points(points)\n",
    "greenland_mask = greenland_mask.reshape((ny,nx))\n",
    "\n",
    "plt.xlim([270,360])\n",
    "plt.ylim([-90,-50])\n",
    "plt.pcolormesh(oo,aa,greenland_mask,shading='nearest')\n",
    "plt.show()"
   ]
  },
  {
   "cell_type": "code",
   "execution_count": null,
   "id": "608da75f",
   "metadata": {},
   "outputs": [],
   "source": [
    "# Impose that the warming over Greenland is zero\n",
    "\n",
    "da_warm_lst = dss_lst.stl1m + delta_tsl_modif*(1-greenland_mask)\n",
    "da_warm_lst = da_warm_lst.fillna(-999)\n",
    "dss_warm_lst = da_warm_lst.to_dataset(name='stl1m')\n",
    "dss_warm_lst.to_netcdf('stl1m_'+season_label+'_warmed_speedygrid_zerowarming_greenland.nc')"
   ]
  },
  {
   "cell_type": "code",
   "execution_count": null,
   "id": "71b64652",
   "metadata": {},
   "outputs": [],
   "source": [
    "# Try to read a final file from scratch\n",
    "test_read = xr.open_dataset('stl1m_JJA_warmed_speedygrid_zerowarming_greenland.nc')\n",
    "test_read.stl1m.plot(vmin=270,vmax=330)"
   ]
  },
  {
   "cell_type": "code",
   "execution_count": null,
   "id": "ea724451",
   "metadata": {},
   "outputs": [],
   "source": [
    "# On LEONARDO then I need to convert the netcdf in grd files with\n",
    "# test_bc_sst_warmed.gs sswt DJF\n",
    "# test_bc_sst_warmed.gs stl1m DJF\n",
    "\n",
    "# and then write the ctl files\n",
    "# test_ctl_warmed.s sswt DJF -999\n",
    "# test_ctl_warmed.s stl1m DJF -999"
   ]
  },
  {
   "cell_type": "code",
   "execution_count": null,
   "id": "33a8fe4c",
   "metadata": {},
   "outputs": [],
   "source": []
  },
  {
   "cell_type": "code",
   "execution_count": null,
   "id": "aefdebc7",
   "metadata": {},
   "outputs": [],
   "source": []
  },
  {
   "cell_type": "code",
   "execution_count": null,
   "id": "1ee88ed3",
   "metadata": {},
   "outputs": [],
   "source": []
  },
  {
   "cell_type": "code",
   "execution_count": null,
   "id": "a114b7ca",
   "metadata": {},
   "outputs": [],
   "source": [
    "# Here I read the climatological file for stl1m and I add the JJA warm land anomaly.\n",
    "clim_file = path2clim + 'mclim_erain_stl1m.nc'\n",
    "ds_clim = xr.open_dataset(clim_file)\n",
    "\n",
    "ds_clim"
   ]
  },
  {
   "cell_type": "code",
   "execution_count": null,
   "id": "8241c421",
   "metadata": {},
   "outputs": [],
   "source": [
    "clim_jan = ds_clim.stl1m.isel(time=0).isel(lev=0)\n",
    "clim_jul = ds_clim.stl1m.isel(time=6).isel(lev=0)\n",
    "\n",
    "diff = clim_jul-clim_jan\n",
    "diff.plot()"
   ]
  },
  {
   "cell_type": "code",
   "execution_count": null,
   "id": "2bc7a601",
   "metadata": {},
   "outputs": [],
   "source": [
    "# Add the JJA LST warming in all months and save the netcdf file.\n",
    "\n",
    "ds_clim_warm = ds_clim + delta_tsl_modif\n",
    "ds_clim_warm = ds_clim_warm.fillna(-999)\n",
    "ds_clim_warm.to_netcdf('stl1m_mclim_'+season_label+'_warmed_speedygrid.nc')"
   ]
  },
  {
   "cell_type": "code",
   "execution_count": null,
   "id": "62f60dbc",
   "metadata": {},
   "outputs": [],
   "source": [
    "for tt in range(12):\n",
    "    print(tt)\n",
    "    test = ds_clim_warm.stl1m[tt]-ds_clim.stl1m[tt]\n",
    "    test.plot(vmin=-12,vmax=12,cmap='seismic')\n",
    "    plt.show()"
   ]
  },
  {
   "cell_type": "code",
   "execution_count": null,
   "id": "f50be5c0",
   "metadata": {},
   "outputs": [],
   "source": [
    "ds_clim_warm.time"
   ]
  },
  {
   "cell_type": "code",
   "execution_count": null,
   "id": "29632ab1",
   "metadata": {},
   "outputs": [],
   "source": []
  },
  {
   "cell_type": "code",
   "execution_count": null,
   "id": "f1d5703d",
   "metadata": {},
   "outputs": [],
   "source": []
  },
  {
   "cell_type": "code",
   "execution_count": null,
   "id": "250e750e",
   "metadata": {},
   "outputs": [],
   "source": []
  },
  {
   "cell_type": "code",
   "execution_count": null,
   "id": "cf8c1983",
   "metadata": {},
   "outputs": [],
   "source": []
  },
  {
   "cell_type": "code",
   "execution_count": null,
   "id": "764ea5ac",
   "metadata": {},
   "outputs": [],
   "source": [
    "prova = xr.open_dataset('stl1m_mclim_'+season_label+'_warmed_speedygrid.nc')\n",
    "\n",
    "tt=0\n",
    "prova_fig = prova.stl1m[tt]-ds_clim.stl1m[tt]\n",
    "prova_fig.plot(vmin=-12,vmax=12,cmap='seismic')"
   ]
  },
  {
   "cell_type": "code",
   "execution_count": null,
   "id": "4c1ddd30",
   "metadata": {},
   "outputs": [],
   "source": []
  }
 ],
 "metadata": {
  "kernelspec": {
   "display_name": "Python 3",
   "language": "python",
   "name": "python3"
  },
  "language_info": {
   "codemirror_mode": {
    "name": "ipython",
    "version": 3
   },
   "file_extension": ".py",
   "mimetype": "text/x-python",
   "name": "python",
   "nbconvert_exporter": "python",
   "pygments_lexer": "ipython3",
   "version": "3.9.2"
  }
 },
 "nbformat": 4,
 "nbformat_minor": 5
}
